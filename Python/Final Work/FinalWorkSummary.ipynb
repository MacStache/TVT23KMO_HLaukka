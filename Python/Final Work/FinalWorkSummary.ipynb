{
 "cells": [
  {
   "cell_type": "markdown",
   "metadata": {},
   "source": [
    "# Fysiikan lopputyö\n"
   ]
  },
  {
   "cell_type": "markdown",
   "metadata": {},
   "source": [
    "Askelmäärä suodatetun datan perusteella on `285` askelta.\n",
    "\n",
    "Askelmäärä Fourier-analyysin perusteella on `238` askelta.\n",
    "\n",
    "Keskinopeus on `1.3` m/s\n",
    "\n",
    "Kuljettu kokonaismatka on `286.04` metriä\n",
    "\n",
    "Askelpituus on `1.2` metriä"
   ]
  },
  {
   "cell_type": "markdown",
   "metadata": {},
   "source": [
    "# Suodatetun kiihtyvyysdatan x-komponentti"
   ]
  },
  {
   "cell_type": "markdown",
   "metadata": {},
   "source": [
    "![Suodatettu](suodatettu.png)"
   ]
  },
  {
   "cell_type": "markdown",
   "metadata": {},
   "source": [
    "# Tehospektri"
   ]
  },
  {
   "cell_type": "markdown",
   "metadata": {},
   "source": [
    "![Tehospektri](tehospektri.png)"
   ]
  },
  {
   "cell_type": "markdown",
   "metadata": {},
   "source": [
    "# Karttakuva\n",
    "\n",
    "![Kartta](kartta.png)"
   ]
  }
 ],
 "metadata": {
  "language_info": {
   "name": "python"
  }
 },
 "nbformat": 4,
 "nbformat_minor": 2
}
