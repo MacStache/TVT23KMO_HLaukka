{
 "cells": [
  {
   "cell_type": "code",
   "execution_count": 15,
   "metadata": {},
   "outputs": [],
   "source": [
    "#Let's start python programming!\n",
    "\n",
    "#The hastag # at the beginning of the line makes the line comment.\n",
    "#Comment lines don't affect the actual program at all. "
   ]
  },
  {
   "cell_type": "markdown",
   "metadata": {},
   "source": [
    "Check that libraries have been installed\n",
    "\n",
    "If not, install them from terminal: \n",
    "\n",
    "pip install numpy\n",
    "\n",
    "or\n",
    "\n",
    "python -m pip install numpy\n",
    "\n",
    "or from script\n",
    "\n",
    "%pip install numpy"
   ]
  },
  {
   "cell_type": "code",
   "execution_count": 3,
   "metadata": {},
   "outputs": [
    {
     "name": "stdout",
     "output_type": "stream",
     "text": [
      "3.0\n"
     ]
    }
   ],
   "source": [
    "\n",
    "\n",
    "import numpy as np\n",
    "import pandas as pd\n",
    "\n",
    "x = [1,2,3,4,5]\n",
    "print(np.mean(x))"
   ]
  },
  {
   "cell_type": "code",
   "execution_count": 17,
   "metadata": {},
   "outputs": [
    {
     "name": "stdout",
     "output_type": "stream",
     "text": [
      "Hello TVT23 students!\n",
      "3\n",
      "11\n",
      "5 + 6\n"
     ]
    }
   ],
   "source": [
    "#Print\n",
    "\n",
    "print('Hello TVT23 students!') #Prints the text\n",
    "\n",
    "print(3) #Prints the number\n",
    "\n",
    "print(5+6) # Prints the number\n",
    "\n",
    "print('5 + 6') #Prints the text string "
   ]
  },
  {
   "cell_type": "code",
   "execution_count": 18,
   "metadata": {},
   "outputs": [
    {
     "name": "stdout",
     "output_type": "stream",
     "text": [
      "<class 'str'>\n",
      "<class 'str'>\n",
      "<class 'int'>\n",
      "<class 'float'>\n",
      "<class 'float'>\n"
     ]
    }
   ],
   "source": [
    "#Define the variables\n",
    "a = 'cat'\n",
    "b = 'dog'\n",
    "c = 312\n",
    "d = 42.23\n",
    "e = 987359283421212127920378450293852227.2\n",
    "\n",
    "print(type(a))\n",
    "print(type(b))\n",
    "print(type(c))\n",
    "print(type(d))\n",
    "print(type(e))"
   ]
  },
  {
   "cell_type": "code",
   "execution_count": 19,
   "metadata": {},
   "outputs": [
    {
     "name": "stdout",
     "output_type": "stream",
     "text": [
      "<class 'str'>\n",
      "<class 'str'>\n"
     ]
    }
   ],
   "source": [
    "#Data types\n",
    "x = str('Hello')\n",
    "print(type(x))\n",
    "x = 'Hello'\n",
    "print(type(x))\n",
    "#Data type is the same in two cases above. \n",
    "#Python automatically defines the (optimal) data type according to optimal input\n",
    "#In case of text string there are no alternative options\n"
   ]
  },
  {
   "cell_type": "code",
   "execution_count": 20,
   "metadata": {},
   "outputs": [
    {
     "name": "stdout",
     "output_type": "stream",
     "text": [
      "20.9\n",
      "20\n",
      "20.9\n",
      "(20.9+0j)\n"
     ]
    }
   ],
   "source": [
    "#Numeric types\n",
    "a = 20\n",
    "b = int(20)\n",
    "c = float(20)\n",
    "d = complex(20)\n",
    "\n",
    "# print(a)\n",
    "# print(b)\n",
    "# print(c)\n",
    "# print(d)\n",
    "#The number does not change in this case but float has decimals and complex imaginary part\n",
    "\n",
    "# print(type(a))\n",
    "# print(type(b))\n",
    "# print(type(c))\n",
    "# print(type(d))\n",
    "\n",
    "#The situation is different if the data type does not support conserving all the information of the input variable\n",
    "\n",
    "#Numeric types\n",
    "a = 20.9\n",
    "b = int(20.9)\n",
    "c = float(20.9)\n",
    "d = complex(20.9)\n",
    "\n",
    "print(a)\n",
    "print(b)\n",
    "print(c)\n",
    "print(d)\n",
    "\n",
    "#int takes only the value before the decimal separator"
   ]
  },
  {
   "cell_type": "code",
   "execution_count": 21,
   "metadata": {},
   "outputs": [
    {
     "name": "stdout",
     "output_type": "stream",
     "text": [
      "Casting to int\n",
      "5\n",
      "6\n",
      "7\n",
      "Casting to float\n",
      "5.0\n",
      "6.6\n",
      "7.0\n",
      "Casting to string\n",
      "5\n",
      "6.6\n",
      "7\n"
     ]
    }
   ],
   "source": [
    "#Casting\n",
    "\n",
    "#Casting to int\n",
    "print('Casting to int')\n",
    "a = int(5) #Int to int, keeps the full accuracy\n",
    "b = int(6.6) #Float to in, loses decimals\n",
    "c = int('7') #String to int, works if string characters form a number\n",
    "print(a)\n",
    "print(b)\n",
    "print(c)\n",
    "\n",
    "#Casting to float\n",
    "print('Casting to float')\n",
    "a = float(5) #Int to float, keeps the full accuracy\n",
    "b = float(6.6) #Float to float\n",
    "c = float('7') #String to float, works if string characters form a number, ads decimal separator and decimals\n",
    "print(a)\n",
    "print(b)\n",
    "print(c)\n",
    "\n",
    "#Casting to string\n",
    "print('Casting to string')\n",
    "a = str(5) #Int to str, keeps the full accuracy\n",
    "b = str(6.6) #Float to str, keeps the full accuracy\n",
    "c = str('7') #String to str\n",
    "print(a)\n",
    "print(b)\n",
    "print(c)"
   ]
  },
  {
   "cell_type": "code",
   "execution_count": 22,
   "metadata": {},
   "outputs": [
    {
     "name": "stdout",
     "output_type": "stream",
     "text": [
      "Hello OAMK!\n",
      "Hello OAMK!\n",
      "Hello OAMK! Year 2023 will be great!\n",
      "36\n",
      "Hello\n"
     ]
    }
   ],
   "source": [
    "#Strings\n",
    "\n",
    "a = 'Hello OAMK!'\n",
    "print(a)\n",
    "\n",
    "a = 'Hello ' + 'OAMK!'\n",
    "print(a)\n",
    "\n",
    "a = 'Hello ' + 'OAMK! ' + 'Year ' + str(2023) + ' will be great!'\n",
    "print(a)\n",
    "\n",
    "print(len(a)) #Lenght of a string\n",
    "print(a[0:5]) #Prints out the selected range of characters"
   ]
  },
  {
   "cell_type": "code",
   "execution_count": 23,
   "metadata": {},
   "outputs": [
    {
     "name": "stdout",
     "output_type": "stream",
     "text": [
      "True\n",
      "<class 'bool'>\n",
      "False\n",
      "<class 'bool'>\n",
      "x is smaller than 4\n",
      "1\n",
      "<class 'int'>\n"
     ]
    }
   ],
   "source": [
    "#Booleans \n",
    "a = True\n",
    "print(a)\n",
    "print(type(a))\n",
    "\n",
    "x = 3\n",
    "b= (x > 4)\n",
    "print(b)\n",
    "print(type(b))\n",
    "\n",
    "if b:\n",
    "    print('x is greater than 4')\n",
    "else:\n",
    "    print('x is smaller than 4')\n",
    "\n",
    "c = a + b\n",
    "print(c)\n",
    "print(type(c))"
   ]
  },
  {
   "cell_type": "code",
   "execution_count": 24,
   "metadata": {},
   "outputs": [
    {
     "name": "stdout",
     "output_type": "stream",
     "text": [
      "7\n",
      "-1\n",
      "12\n",
      "0.75\n",
      "3\n",
      "81\n",
      "0\n"
     ]
    }
   ],
   "source": [
    "#operators\n",
    "x = 3\n",
    "y = 4\n",
    "print(x + y)    #Addition\n",
    "print(x - y)    #Subtraction\n",
    "print(x*y)      #Multiplication\t\n",
    "print(x/y)      #Division\t\t\n",
    "print(x % y)    #Modulus\t\t\n",
    "print(x**y)     #Exponentiation\t\n",
    "print(x//y)     #Floor division\t"
   ]
  },
  {
   "cell_type": "code",
   "execution_count": 25,
   "metadata": {},
   "outputs": [
    {
     "name": "stdout",
     "output_type": "stream",
     "text": [
      "['bird', 'dog', 'cow']\n",
      "[4, 3, 5.23, True]\n",
      "4\n"
     ]
    }
   ],
   "source": [
    "#Lists\n",
    "#List of string, integers, floats, booleans or combinationof them\n",
    "\n",
    "l1 = [\"cat\", \"dog\", \"cow\"]\n",
    "l2 = [1,2,3]\n",
    "l3 = [2.12, 2.45, 2.12]\n",
    "l4 = [True, False, True]\n",
    "l5 = ['cat', 3, 5.23, True]\n",
    "\n",
    "#List is mutable\n",
    "l1[0] = 'bird'\n",
    "print(l1)\n",
    "\n",
    "#List is mutable\n",
    "l5[0] = 4\n",
    "print(l5)\n",
    "type(l5[0])\n",
    "\n",
    "#Lenght of the list is the number of elements \n",
    "print(len(l5))"
   ]
  }
 ],
 "metadata": {
  "kernelspec": {
   "display_name": "Python 3",
   "language": "python",
   "name": "python3"
  },
  "language_info": {
   "codemirror_mode": {
    "name": "ipython",
    "version": 3
   },
   "file_extension": ".py",
   "mimetype": "text/x-python",
   "name": "python",
   "nbconvert_exporter": "python",
   "pygments_lexer": "ipython3",
   "version": "3.12.5"
  },
  "orig_nbformat": 4
 },
 "nbformat": 4,
 "nbformat_minor": 2
}
