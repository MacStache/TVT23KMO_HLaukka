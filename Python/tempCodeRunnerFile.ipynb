import numpy as np
import matplotlib.pyplot as plt
import pandas as pd

# Lue signaalidata CSV-tiedostosta
data = pd.read_csv('signaali.csv')
data.head()